{
 "cells": [
  {
   "cell_type": "code",
   "execution_count": 1,
   "metadata": {},
   "outputs": [],
   "source": [
    "import pandas as pd\n",
    "import numpy as np\n",
    "import itertools\n",
    "from sklearn import metrics\n",
    "from sklearn.model_selection import train_test_split\n",
    "from sklearn.model_selection import StratifiedKFold\n",
    "from sklearn.metrics import confusion_matrix\n",
    "from sklearn.naive_bayes import GaussianNB\n",
    "from sklearn.neighbors import KNeighborsClassifier\n",
    "import matplotlib.pyplot as plt\n",
    "import time\n",
    "from sklearn.linear_model import LogisticRegression\n",
    "from matplotlib.colors import ListedColormap\n",
    "from sklearn import neighbors\n",
    "from sklearn.model_selection import train_test_split\n",
    "from sklearn.naive_bayes import GaussianNB, BernoulliNB, MultinomialNB"
   ]
  },
  {
   "cell_type": "code",
   "execution_count": 2,
   "metadata": {},
   "outputs": [],
   "source": [
    "def plot_confusion_matrix(cnf_matrix, classesNames, normalize=False,\n",
    "                          cmap=plt.cm.Blues):\n",
    "    \"\"\"\n",
    "        This function prints and plots the confusion matrix.\n",
    "        Normalization can be applied by setting `normalize=True`.\n",
    "    \"\"\"\n",
    "    np.set_printoptions(precision=2)\n",
    "\n",
    "    if normalize:\n",
    "        soma = cnf_matrix.sum(axis=1)[:, np.newaxis]\n",
    "        cm = cnf_matrix.astype('float') / soma\n",
    "        title = \"Normalized confusion matrix\"\n",
    "    else:\n",
    "        cm = cnf_matrix\n",
    "        title = 'Confusion matrix, without normalization'\n",
    "\n",
    "    print(cm)\n",
    "\n",
    "    plt.figure()\n",
    "\n",
    "    plt.imshow(cm, interpolation='nearest', cmap=cmap)\n",
    "    plt.title(title)\n",
    "    plt.colorbar()\n",
    "    tick_marks = np.arange(len(classesNames))\n",
    "    plt.xticks(tick_marks, classesNames, rotation=45)\n",
    "    plt.yticks(tick_marks, classesNames)\n",
    "\n",
    "    fmt = '.2f' if normalize else 'd'\n",
    "    thresh = cm.max() / 2.\n",
    "    for i, j in itertools.product(range(cm.shape[0]), range(cm.shape[1])):\n",
    "        plt.text(j, i, format(cm[i, j], fmt),\n",
    "                 horizontalalignment=\"center\",\n",
    "                 color=\"white\" if cm[i, j] > thresh else \"black\")\n",
    "\n",
    "    plt.tight_layout()\n",
    "    plt.ylabel('True label')\n",
    "    plt.xlabel('Predicted label')"
   ]
  },
  {
   "cell_type": "code",
   "execution_count": 3,
   "metadata": {},
   "outputs": [],
   "source": [
    "train = pd.read_csv(\"./clean_data/clean_train.csv\")\n",
    "test = pd.read_csv(\"./clean_data/clean_test.csv\")\n",
    "test_class = test.iloc[:,:1]\n",
    "test = test.iloc[:,1:]\n",
    "X = train.iloc[:,1:]\n",
    "y = train['class']\n",
    "labels = pd.unique(y)"
   ]
  },
  {
   "cell_type": "code",
   "execution_count": 4,
   "metadata": {},
   "outputs": [
    {
     "name": "stdout",
     "output_type": "stream",
     "text": [
      "['class' 'aa_000' 'ab_000' 'ac_000' 'ad_000' 'ae_000' 'af_000' 'ag_000'\n",
      " 'ag_001' 'ag_002' 'ag_003' 'ag_004' 'ag_005' 'ag_006' 'ag_007' 'ag_008'\n",
      " 'ag_009' 'ah_000' 'ai_000' 'aj_000' 'ak_000' 'al_000' 'am_0' 'an_000'\n",
      " 'ao_000' 'ap_000' 'aq_000' 'ar_000' 'as_000' 'at_000' 'au_000' 'av_000'\n",
      " 'ax_000' 'ay_000' 'ay_001' 'ay_002' 'ay_003' 'ay_004' 'ay_005' 'ay_006'\n",
      " 'ay_007' 'ay_008' 'ay_009' 'az_000' 'az_001' 'az_002' 'az_003' 'az_004'\n",
      " 'az_005' 'az_006' 'az_007' 'az_008' 'az_009' 'ba_000' 'ba_001' 'ba_002'\n",
      " 'ba_003' 'ba_004' 'ba_005' 'ba_006' 'ba_007' 'ba_008' 'ba_009' 'bb_000'\n",
      " 'bc_000' 'bd_000' 'be_000' 'bf_000' 'bg_000' 'bh_000' 'bi_000' 'bj_000'\n",
      " 'bk_000' 'bl_000' 'bm_000' 'bn_000' 'bo_000' 'bp_000' 'bq_000' 'br_000'\n",
      " 'bs_000' 'bt_000' 'bu_000' 'bv_000' 'bx_000' 'by_000' 'bz_000' 'ca_000'\n",
      " 'cb_000' 'cc_000' 'cd_000' 'ce_000' 'cf_000' 'cg_000' 'ch_000' 'ci_000'\n",
      " 'cj_000' 'ck_000' 'cl_000' 'cm_000' 'cn_000' 'cn_001' 'cn_002' 'cn_003'\n",
      " 'cn_004' 'cn_005' 'cn_006' 'cn_007' 'cn_008' 'cn_009' 'co_000' 'cp_000'\n",
      " 'cq_000' 'cr_000' 'cs_000' 'cs_001' 'cs_002' 'cs_003' 'cs_004' 'cs_005'\n",
      " 'cs_006' 'cs_007' 'cs_008' 'cs_009' 'ct_000' 'cu_000' 'cv_000' 'cx_000'\n",
      " 'cy_000' 'cz_000' 'da_000' 'db_000' 'dc_000' 'dd_000' 'de_000' 'df_000'\n",
      " 'dg_000' 'dh_000' 'di_000' 'dj_000' 'dk_000' 'dl_000' 'dm_000' 'dn_000'\n",
      " 'do_000' 'dp_000' 'dq_000' 'dr_000' 'ds_000' 'dt_000' 'du_000' 'dv_000'\n",
      " 'dx_000' 'dy_000' 'dz_000' 'ea_000' 'eb_000' 'ec_00' 'ed_000' 'ee_000'\n",
      " 'ee_001' 'ee_002' 'ee_003' 'ee_004' 'ee_005' 'ee_006' 'ee_007' 'ee_008'\n",
      " 'ee_009' 'ef_000' 'eg_000']\n",
      "['aa_000' 'ab_000' 'ac_000' 'ad_000' 'ae_000' 'af_000' 'ag_000' 'ag_001'\n",
      " 'ag_002' 'ag_003' 'ag_004' 'ag_005' 'ag_006' 'ag_007' 'ag_008' 'ag_009'\n",
      " 'ah_000' 'ai_000' 'aj_000' 'ak_000' 'al_000' 'am_0' 'an_000' 'ao_000'\n",
      " 'ap_000' 'aq_000' 'ar_000' 'as_000' 'at_000' 'au_000' 'av_000' 'ax_000'\n",
      " 'ay_000' 'ay_001' 'ay_002' 'ay_003' 'ay_004' 'ay_005' 'ay_006' 'ay_007'\n",
      " 'ay_008' 'ay_009' 'az_000' 'az_001' 'az_002' 'az_003' 'az_004' 'az_005'\n",
      " 'az_006' 'az_007' 'az_008' 'az_009' 'ba_000' 'ba_001' 'ba_002' 'ba_003'\n",
      " 'ba_004' 'ba_005' 'ba_006' 'ba_007' 'ba_008' 'ba_009' 'bb_000' 'bc_000'\n",
      " 'bd_000' 'be_000' 'bf_000' 'bg_000' 'bh_000' 'bi_000' 'bj_000' 'bk_000'\n",
      " 'bl_000' 'bm_000' 'bn_000' 'bo_000' 'bp_000' 'bq_000' 'br_000' 'bs_000'\n",
      " 'bt_000' 'bu_000' 'bv_000' 'bx_000' 'by_000' 'bz_000' 'ca_000' 'cb_000'\n",
      " 'cc_000' 'cd_000' 'ce_000' 'cf_000' 'cg_000' 'ch_000' 'ci_000' 'cj_000'\n",
      " 'ck_000' 'cl_000' 'cm_000' 'cn_000' 'cn_001' 'cn_002' 'cn_003' 'cn_004'\n",
      " 'cn_005' 'cn_006' 'cn_007' 'cn_008' 'cn_009' 'co_000' 'cp_000' 'cq_000'\n",
      " 'cr_000' 'cs_000' 'cs_001' 'cs_002' 'cs_003' 'cs_004' 'cs_005' 'cs_006'\n",
      " 'cs_007' 'cs_008' 'cs_009' 'ct_000' 'cu_000' 'cv_000' 'cx_000' 'cy_000'\n",
      " 'cz_000' 'da_000' 'db_000' 'dc_000' 'dd_000' 'de_000' 'df_000' 'dg_000'\n",
      " 'dh_000' 'di_000' 'dj_000' 'dk_000' 'dl_000' 'dm_000' 'dn_000' 'do_000'\n",
      " 'dp_000' 'dq_000' 'dr_000' 'ds_000' 'dt_000' 'du_000' 'dv_000' 'dx_000'\n",
      " 'dy_000' 'dz_000' 'ea_000' 'eb_000' 'ec_00' 'ed_000' 'ee_000' 'ee_001'\n",
      " 'ee_002' 'ee_003' 'ee_004' 'ee_005' 'ee_006' 'ee_007' 'ee_008' 'ee_009'\n",
      " 'ef_000' 'eg_000']\n"
     ]
    },
    {
     "data": {
      "text/html": [
       "<div>\n",
       "<style scoped>\n",
       "    .dataframe tbody tr th:only-of-type {\n",
       "        vertical-align: middle;\n",
       "    }\n",
       "\n",
       "    .dataframe tbody tr th {\n",
       "        vertical-align: top;\n",
       "    }\n",
       "\n",
       "    .dataframe thead th {\n",
       "        text-align: right;\n",
       "    }\n",
       "</style>\n",
       "<table border=\"1\" class=\"dataframe\">\n",
       "  <thead>\n",
       "    <tr style=\"text-align: right;\">\n",
       "      <th></th>\n",
       "      <th>aa_000</th>\n",
       "      <th>ab_000</th>\n",
       "      <th>ac_000</th>\n",
       "      <th>ad_000</th>\n",
       "      <th>ae_000</th>\n",
       "      <th>af_000</th>\n",
       "      <th>ag_000</th>\n",
       "      <th>ag_001</th>\n",
       "      <th>ag_002</th>\n",
       "      <th>ag_003</th>\n",
       "      <th>...</th>\n",
       "      <th>ee_002</th>\n",
       "      <th>ee_003</th>\n",
       "      <th>ee_004</th>\n",
       "      <th>ee_005</th>\n",
       "      <th>ee_006</th>\n",
       "      <th>ee_007</th>\n",
       "      <th>ee_008</th>\n",
       "      <th>ee_009</th>\n",
       "      <th>ef_000</th>\n",
       "      <th>eg_000</th>\n",
       "    </tr>\n",
       "  </thead>\n",
       "  <tbody>\n",
       "    <tr>\n",
       "      <th>4025</th>\n",
       "      <td>234.0</td>\n",
       "      <td>0.000000</td>\n",
       "      <td>2.130706e+09</td>\n",
       "      <td>26.000000</td>\n",
       "      <td>0.000000</td>\n",
       "      <td>0.00000</td>\n",
       "      <td>0.0</td>\n",
       "      <td>0.0</td>\n",
       "      <td>0.0</td>\n",
       "      <td>0.0</td>\n",
       "      <td>...</td>\n",
       "      <td>1260.0</td>\n",
       "      <td>256.0</td>\n",
       "      <td>668.0</td>\n",
       "      <td>1614.0</td>\n",
       "      <td>3946.0</td>\n",
       "      <td>1598.0</td>\n",
       "      <td>0.0</td>\n",
       "      <td>0.0</td>\n",
       "      <td>0.000000</td>\n",
       "      <td>0.000000</td>\n",
       "    </tr>\n",
       "    <tr>\n",
       "      <th>14530</th>\n",
       "      <td>30.0</td>\n",
       "      <td>0.772065</td>\n",
       "      <td>2.130706e+09</td>\n",
       "      <td>14.000000</td>\n",
       "      <td>0.000000</td>\n",
       "      <td>0.00000</td>\n",
       "      <td>0.0</td>\n",
       "      <td>0.0</td>\n",
       "      <td>0.0</td>\n",
       "      <td>0.0</td>\n",
       "      <td>...</td>\n",
       "      <td>488.0</td>\n",
       "      <td>148.0</td>\n",
       "      <td>70.0</td>\n",
       "      <td>46.0</td>\n",
       "      <td>0.0</td>\n",
       "      <td>0.0</td>\n",
       "      <td>0.0</td>\n",
       "      <td>0.0</td>\n",
       "      <td>0.000000</td>\n",
       "      <td>0.000000</td>\n",
       "    </tr>\n",
       "    <tr>\n",
       "      <th>11041</th>\n",
       "      <td>39276.0</td>\n",
       "      <td>0.772065</td>\n",
       "      <td>5.000000e+01</td>\n",
       "      <td>86.000000</td>\n",
       "      <td>0.000000</td>\n",
       "      <td>0.00000</td>\n",
       "      <td>0.0</td>\n",
       "      <td>0.0</td>\n",
       "      <td>0.0</td>\n",
       "      <td>0.0</td>\n",
       "      <td>...</td>\n",
       "      <td>350128.0</td>\n",
       "      <td>215264.0</td>\n",
       "      <td>547654.0</td>\n",
       "      <td>427514.0</td>\n",
       "      <td>234230.0</td>\n",
       "      <td>71718.0</td>\n",
       "      <td>21452.0</td>\n",
       "      <td>390.0</td>\n",
       "      <td>0.000000</td>\n",
       "      <td>0.000000</td>\n",
       "    </tr>\n",
       "    <tr>\n",
       "      <th>10635</th>\n",
       "      <td>0.0</td>\n",
       "      <td>0.772065</td>\n",
       "      <td>3.580393e+08</td>\n",
       "      <td>1100.000000</td>\n",
       "      <td>6.428347</td>\n",
       "      <td>10.19595</td>\n",
       "      <td>0.0</td>\n",
       "      <td>0.0</td>\n",
       "      <td>0.0</td>\n",
       "      <td>0.0</td>\n",
       "      <td>...</td>\n",
       "      <td>551296.0</td>\n",
       "      <td>293468.0</td>\n",
       "      <td>1019860.0</td>\n",
       "      <td>1057906.0</td>\n",
       "      <td>18540.0</td>\n",
       "      <td>3222.0</td>\n",
       "      <td>2220.0</td>\n",
       "      <td>0.0</td>\n",
       "      <td>0.064969</td>\n",
       "      <td>0.242683</td>\n",
       "    </tr>\n",
       "    <tr>\n",
       "      <th>853</th>\n",
       "      <td>920060.0</td>\n",
       "      <td>0.772065</td>\n",
       "      <td>3.580393e+08</td>\n",
       "      <td>439.498794</td>\n",
       "      <td>6.428347</td>\n",
       "      <td>10.19595</td>\n",
       "      <td>0.0</td>\n",
       "      <td>0.0</td>\n",
       "      <td>0.0</td>\n",
       "      <td>15794.0</td>\n",
       "      <td>...</td>\n",
       "      <td>10891026.0</td>\n",
       "      <td>5154542.0</td>\n",
       "      <td>9226426.0</td>\n",
       "      <td>6185862.0</td>\n",
       "      <td>4028634.0</td>\n",
       "      <td>2230756.0</td>\n",
       "      <td>3233782.0</td>\n",
       "      <td>249416.0</td>\n",
       "      <td>0.064969</td>\n",
       "      <td>0.242683</td>\n",
       "    </tr>\n",
       "  </tbody>\n",
       "</table>\n",
       "<p>5 rows × 170 columns</p>\n",
       "</div>"
      ],
      "text/plain": [
       "         aa_000    ab_000        ac_000       ad_000    ae_000    af_000  \\\n",
       "4025      234.0  0.000000  2.130706e+09    26.000000  0.000000   0.00000   \n",
       "14530      30.0  0.772065  2.130706e+09    14.000000  0.000000   0.00000   \n",
       "11041   39276.0  0.772065  5.000000e+01    86.000000  0.000000   0.00000   \n",
       "10635       0.0  0.772065  3.580393e+08  1100.000000  6.428347  10.19595   \n",
       "853    920060.0  0.772065  3.580393e+08   439.498794  6.428347  10.19595   \n",
       "\n",
       "       ag_000  ag_001  ag_002   ag_003    ...         ee_002     ee_003  \\\n",
       "4025      0.0     0.0     0.0      0.0    ...         1260.0      256.0   \n",
       "14530     0.0     0.0     0.0      0.0    ...          488.0      148.0   \n",
       "11041     0.0     0.0     0.0      0.0    ...       350128.0   215264.0   \n",
       "10635     0.0     0.0     0.0      0.0    ...       551296.0   293468.0   \n",
       "853       0.0     0.0     0.0  15794.0    ...     10891026.0  5154542.0   \n",
       "\n",
       "          ee_004     ee_005     ee_006     ee_007     ee_008    ee_009  \\\n",
       "4025       668.0     1614.0     3946.0     1598.0        0.0       0.0   \n",
       "14530       70.0       46.0        0.0        0.0        0.0       0.0   \n",
       "11041   547654.0   427514.0   234230.0    71718.0    21452.0     390.0   \n",
       "10635  1019860.0  1057906.0    18540.0     3222.0     2220.0       0.0   \n",
       "853    9226426.0  6185862.0  4028634.0  2230756.0  3233782.0  249416.0   \n",
       "\n",
       "         ef_000    eg_000  \n",
       "4025   0.000000  0.000000  \n",
       "14530  0.000000  0.000000  \n",
       "11041  0.000000  0.000000  \n",
       "10635  0.064969  0.242683  \n",
       "853    0.064969  0.242683  \n",
       "\n",
       "[5 rows x 170 columns]"
      ]
     },
     "execution_count": 4,
     "metadata": {},
     "output_type": "execute_result"
    }
   ],
   "source": [
    "print(train.columns.values)\n",
    "train.sample(5)\n",
    "print(test.columns.values)\n",
    "test.sample(5)"
   ]
  },
  {
   "cell_type": "markdown",
   "metadata": {},
   "source": [
    "## Logistic Regression"
   ]
  },
  {
   "cell_type": "code",
   "execution_count": 5,
   "metadata": {},
   "outputs": [
    {
     "name": "stderr",
     "output_type": "stream",
     "text": [
      "c:\\users\\inesm\\appdata\\local\\programs\\python\\python36\\lib\\site-packages\\sklearn\\linear_model\\logistic.py:432: FutureWarning: Default solver will be changed to 'lbfgs' in 0.22. Specify a solver to silence this warning.\n",
      "  FutureWarning)\n",
      "c:\\users\\inesm\\appdata\\local\\programs\\python\\python36\\lib\\site-packages\\sklearn\\svm\\base.py:922: ConvergenceWarning: Liblinear failed to converge, increase the number of iterations.\n",
      "  \"the number of iterations.\", ConvergenceWarning)\n"
     ]
    },
    {
     "data": {
      "text/plain": [
       "array(['neg', 'neg', 'neg', ..., 'neg', 'neg', 'neg'], dtype=object)"
      ]
     },
     "execution_count": 5,
     "metadata": {},
     "output_type": "execute_result"
    }
   ],
   "source": [
    "logreg = LogisticRegression()\n",
    "logreg.fit(X,y)\n",
    "logreg.predict(X)"
   ]
  },
  {
   "cell_type": "code",
   "execution_count": 6,
   "metadata": {},
   "outputs": [
    {
     "data": {
      "text/plain": [
       "60000"
      ]
     },
     "execution_count": 6,
     "metadata": {},
     "output_type": "execute_result"
    }
   ],
   "source": [
    "y_pred=logreg.predict(X)\n",
    "len(y_pred)"
   ]
  },
  {
   "cell_type": "code",
   "execution_count": 7,
   "metadata": {},
   "outputs": [
    {
     "name": "stdout",
     "output_type": "stream",
     "text": [
      "0.9917166666666667\n"
     ]
    }
   ],
   "source": [
    "print(metrics.accuracy_score(y,y_pred))"
   ]
  },
  {
   "cell_type": "markdown",
   "metadata": {},
   "source": [
    "## KNN (K=5)"
   ]
  },
  {
   "cell_type": "code",
   "execution_count": 8,
   "metadata": {},
   "outputs": [
    {
     "name": "stdout",
     "output_type": "stream",
     "text": [
      "0.9928166666666667\n"
     ]
    }
   ],
   "source": [
    "knn = KNeighborsClassifier(n_neighbors=2)\n",
    "model = knn.fit(X, y)\n",
    "y_pred = model.predict(X)\n",
    "print(metrics.accuracy_score(y,y_pred))\n"
   ]
  },
  {
   "cell_type": "markdown",
   "metadata": {},
   "source": [
    "## Evaluation procedure 2 - Train/test split"
   ]
  },
  {
   "cell_type": "code",
   "execution_count": 9,
   "metadata": {},
   "outputs": [],
   "source": [
    "trX, trY, tsX, tsY = X, y, test, test_class"
   ]
  },
  {
   "cell_type": "code",
   "execution_count": 10,
   "metadata": {},
   "outputs": [
    {
     "name": "stdout",
     "output_type": "stream",
     "text": [
      "(60000, 170)\n",
      "(60000,)\n"
     ]
    }
   ],
   "source": [
    "print(X.shape)\n",
    "print(y.shape)"
   ]
  },
  {
   "cell_type": "code",
   "execution_count": 11,
   "metadata": {
    "scrolled": true
   },
   "outputs": [
    {
     "name": "stdout",
     "output_type": "stream",
     "text": [
      "(60000, 170)\n",
      "(16000, 170)\n"
     ]
    }
   ],
   "source": [
    "print(X.shape)\n",
    "print(test.shape)"
   ]
  },
  {
   "cell_type": "code",
   "execution_count": 12,
   "metadata": {},
   "outputs": [],
   "source": [
    "#knn = KNeighborsClassifier(n_neighbors=3)\n",
    "#model = knn.fit(trX, trY)\n",
    "#predY = model.predict(tsX)\n",
    "#cnf_matrix = confusion_matrix(tsY, y_pred, labels)\n",
    "#plot_confusion_matrix(cnf_matrix, labels)"
   ]
  },
  {
   "cell_type": "code",
   "execution_count": 13,
   "metadata": {},
   "outputs": [
    {
     "name": "stderr",
     "output_type": "stream",
     "text": [
      "c:\\users\\inesm\\appdata\\local\\programs\\python\\python36\\lib\\site-packages\\sklearn\\linear_model\\logistic.py:432: FutureWarning: Default solver will be changed to 'lbfgs' in 0.22. Specify a solver to silence this warning.\n",
      "  FutureWarning)\n",
      "c:\\users\\inesm\\appdata\\local\\programs\\python\\python36\\lib\\site-packages\\sklearn\\svm\\base.py:922: ConvergenceWarning: Liblinear failed to converge, increase the number of iterations.\n",
      "  \"the number of iterations.\", ConvergenceWarning)\n"
     ]
    },
    {
     "data": {
      "text/plain": [
       "LogisticRegression(C=1.0, class_weight=None, dual=False, fit_intercept=True,\n",
       "          intercept_scaling=1, max_iter=100, multi_class='warn',\n",
       "          n_jobs=None, penalty='l2', random_state=None, solver='warn',\n",
       "          tol=0.0001, verbose=0, warm_start=False)"
      ]
     },
     "execution_count": 13,
     "metadata": {},
     "output_type": "execute_result"
    }
   ],
   "source": [
    "logreg=LogisticRegression()\n",
    "logreg.fit(trX, trY)"
   ]
  },
  {
   "cell_type": "code",
   "execution_count": 14,
   "metadata": {},
   "outputs": [
    {
     "name": "stdout",
     "output_type": "stream",
     "text": [
      "0.9885\n"
     ]
    }
   ],
   "source": [
    "y_pred = logreg.predict(tsX)\n",
    "print(metrics.accuracy_score(tsY, y_pred))"
   ]
  },
  {
   "cell_type": "code",
   "execution_count": 15,
   "metadata": {},
   "outputs": [
    {
     "name": "stdout",
     "output_type": "stream",
     "text": [
      "0.983875\n"
     ]
    }
   ],
   "source": [
    "knn = KNeighborsClassifier(n_neighbors=5)\n",
    "knn.fit(trX, trY)\n",
    "y_pred = knn.predict(tsX)\n",
    "print(metrics.accuracy_score(tsY, y_pred))"
   ]
  },
  {
   "cell_type": "code",
   "execution_count": 16,
   "metadata": {},
   "outputs": [
    {
     "name": "stdout",
     "output_type": "stream",
     "text": [
      "0.9851875\n"
     ]
    }
   ],
   "source": [
    "knn = KNeighborsClassifier(n_neighbors=1)\n",
    "knn.fit(trX, trY)\n",
    "y_pred = knn.predict(tsX)\n",
    "print(metrics.accuracy_score(tsY, y_pred))"
   ]
  },
  {
   "cell_type": "code",
   "execution_count": 16,
   "metadata": {},
   "outputs": [
    {
     "name": "stdout",
     "output_type": "stream",
     "text": [
      "[0.9851875, 0.983, 0.984125, 0.9830625, 0.983875, 0.9815, 0.9831875, 0.9820625, 0.9829375, 0.9823125, 0.983, 0.9825625, 0.9835, 0.98325, 0.9834375, 0.9821875, 0.98275, 0.9818125, 0.9821875, 0.98125, 0.98175, 0.9811875, 0.98175, 0.9813125, 0.9815625]\n"
     ]
    }
   ],
   "source": [
    "# try K=1 through K=25 and record testing accuracy\n",
    "k_range = range(1, 26)\n",
    "\n",
    "# We can create Python dictionary using [] or dict()\n",
    "scores = []\n",
    "\n",
    "# We use a loop through the range 1 to 26\n",
    "# We append the scores in the dictionary\n",
    "for k in k_range:\n",
    "    knn = KNeighborsClassifier(n_neighbors=k)\n",
    "    knn.fit(trX, trY)\n",
    "    y_pred = knn.predict(tsX)\n",
    "    scores.append(metrics.accuracy_score(tsY, y_pred))\n",
    "\n",
    "print(scores)\n"
   ]
  },
  {
   "cell_type": "code",
   "execution_count": 17,
   "metadata": {},
   "outputs": [
    {
     "data": {
      "text/plain": [
       "Text(0, 0.5, 'Testing Accuracy')"
      ]
     },
     "execution_count": 17,
     "metadata": {},
     "output_type": "execute_result"
    },
    {
     "data": {
      "image/png": "[encoded data removed]",
      "text/plain": [
       "<Figure size 432x288 with 1 Axes>"
      ]
     },
     "metadata": {
      "needs_background": "light"
     },
     "output_type": "display_data"
    }
   ],
   "source": [
    "plt.plot(k_range, scores)\n",
    "plt.xlabel('Value of K for KNN')\n",
    "plt.ylabel('Testing Accuracy')"
   ]
  },
  {
   "cell_type": "markdown",
   "metadata": {},
   "source": [
    "## Naive Bayes Classifier"
   ]
  },
  {
   "cell_type": "code",
   "execution_count": 18,
   "metadata": {},
   "outputs": [],
   "source": [
    "data = pd.read_csv(\"./clean_data/clean_train.csv\")\n",
    "data1 = pd.read_csv(\"./clean_data/clean_test.csv\")"
   ]
  },
  {
   "cell_type": "code",
   "execution_count": 19,
   "metadata": {},
   "outputs": [
    {
     "name": "stdout",
     "output_type": "stream",
     "text": [
      "[[7.66980000e+04 7.13188501e-01 2.13070644e+09 ... 0.00000000e+00\n",
      "  0.00000000e+00 0.00000000e+00]\n",
      " [3.30580000e+04 7.13188501e-01 0.00000000e+00 ... 1.50000000e+03\n",
      "  0.00000000e+00 0.00000000e+00]\n",
      " [4.10400000e+04 7.13188501e-01 2.28000000e+02 ... 5.14000000e+02\n",
      "  0.00000000e+00 0.00000000e+00]\n",
      " ...\n",
      " [1.12000000e+02 0.00000000e+00 2.13070643e+09 ... 0.00000000e+00\n",
      "  0.00000000e+00 0.00000000e+00]\n",
      " [8.02920000e+04 7.13188501e-01 2.13070643e+09 ... 3.88422000e+05\n",
      "  0.00000000e+00 0.00000000e+00]\n",
      " [4.02220000e+04 7.13188501e-01 6.98000000e+02 ... 1.58000000e+02\n",
      "  0.00000000e+00 0.00000000e+00]]\n",
      "Number of mislabeled points out of a total 16000 points : 502, performance 96.86%\n"
     ]
    }
   ],
   "source": [
    "X_train, X_test = data, data1\n",
    "used_features = X_train.iloc[:,1:]\n",
    "abc= X_test.iloc[:,1:]\n",
    "gnb = GaussianNB()\n",
    "print(  used_features.values)\n",
    "gnb.fit(\n",
    "    used_features.values,\n",
    "    X_train[\"class\"]\n",
    ")\n",
    "y_pred = gnb.predict(abc)\n",
    "\n",
    "# Print results\n",
    "print(\"Number of mislabeled points out of a total {} points : {}, performance {:05.2f}%\"\n",
    "      .format(\n",
    "          X_test.shape[0],\n",
    "          (X_test[\"class\"] != y_pred).sum(),\n",
    "          100*(1-(X_test[\"class\"] != y_pred).sum()/X_test.shape[0])\n",
    "))\n"
   ]
  },
  {
   "cell_type": "code",
   "execution_count": 20,
   "metadata": {},
   "outputs": [
    {
     "name": "stdout",
     "output_type": "stream",
     "text": [
      "Train set dimensions : (60000, 171)\n"
     ]
    },
    {
     "name": "stderr",
     "output_type": "stream",
     "text": [
      "c:\\users\\inesm\\appdata\\local\\programs\\python\\python36\\lib\\site-packages\\sklearn\\linear_model\\logistic.py:432: FutureWarning: Default solver will be changed to 'lbfgs' in 0.22. Specify a solver to silence this warning.\n",
      "  FutureWarning)\n",
      "c:\\users\\inesm\\appdata\\local\\programs\\python\\python36\\lib\\site-packages\\sklearn\\svm\\base.py:196: FutureWarning: The default value of gamma will change from 'auto' to 'scale' in version 0.22 to account better for unscaled features. Set gamma explicitly to 'auto' or 'scale' to avoid this warning.\n",
      "  \"avoid this warning.\", FutureWarning)\n"
     ]
    },
    {
     "name": "stdout",
     "output_type": "stream",
     "text": [
      "[0.9929166666666667, 0.99175, 0.9929166666666667, 0.9888333333333333, 0.9636666666666667, 0.9898333333333333, 0.9935833333333334]\n"
     ]
    }
   ],
   "source": [
    "import numpy as np\n",
    "import matplotlib.pyplot as plt\n",
    "import pandas as pd\n",
    "from sklearn.metrics import confusion_matrix\n",
    "from sklearn import metrics\n",
    "\n",
    "data = pd.read_csv(\"./clean_data/clean_train.csv\")\n",
    "\n",
    "X = data.iloc[:, 1:]\n",
    "Y = data['class']\n",
    "\n",
    "scores = []\n",
    "\n",
    "#green.head()\n",
    "\n",
    "print(\"Train set dimensions : {}\".format(data.shape))\n",
    "\n",
    "data.groupby('class').size()\n",
    "\n",
    "#Visualization of data\n",
    "#green.groupby('consensus').hist(figsize=(14, 14))\n",
    "\n",
    "data.isnull().sum()\n",
    "data.isna().sum()\n",
    "\n",
    "dataframe = pd.DataFrame(Y)\n",
    "#Encoding categorical data values \n",
    "from sklearn.preprocessing import LabelEncoder\n",
    "labelencoder_Y = LabelEncoder()\n",
    "Y = labelencoder_Y.fit_transform(Y)\n",
    "\n",
    "\n",
    "# Splitting the dataset into the Training set and Test set\n",
    "from sklearn.model_selection import train_test_split\n",
    "X_train, X_test, Y_train, Y_test = train_test_split(X, Y, test_size = 0.2, random_state = 44)\n",
    "\n",
    "\n",
    "#Feature Scaling\n",
    "from sklearn.preprocessing import StandardScaler\n",
    "sc = StandardScaler()\n",
    "X_train = sc.fit_transform(X_train)\n",
    "X_test = sc.transform(X_test)\n",
    "\n",
    "#Fitting the Logistic Regression Algorithm to the Training Set\n",
    "from sklearn.linear_model import LogisticRegression\n",
    "classifier = LogisticRegression(random_state = 0)\n",
    "classifier.fit(X_train, Y_train)\n",
    "y_pred = classifier.predict(X_test)\n",
    "scores.append(metrics.accuracy_score(Y_test, y_pred))\n",
    "\n",
    "#95.8 Acuracy\n",
    "\n",
    "#Fitting K-NN Algorithm\n",
    "from sklearn.neighbors import KNeighborsClassifier\n",
    "classifier = KNeighborsClassifier(n_neighbors = 1, metric = 'minkowski', p = 2)\n",
    "classifier.fit(X_train, Y_train)\n",
    "y_pred = classifier.predict(X_test)\n",
    "scores.append(metrics.accuracy_score(Y_test, y_pred))\n",
    "#95.1 Acuracy\n",
    "\n",
    "#Fitting SVM\n",
    "from sklearn.svm import SVC\n",
    "classifier = SVC(kernel = 'linear', random_state = 0)\n",
    "classifier.fit(X_train, Y_train) \n",
    "y_pred = classifier.predict(X_test)\n",
    "scores.append(metrics.accuracy_score(Y_test, y_pred))\n",
    "#97.2 Acuracy\n",
    "\n",
    "#Fitting K-SVM\n",
    "from sklearn.svm import SVC\n",
    "classifier = SVC(kernel = 'rbf', random_state = 0)\n",
    "classifier.fit(X_train, Y_train)\n",
    "y_pred = classifier.predict(X_test)\n",
    "scores.append(metrics.accuracy_score(Y_test, y_pred))\n",
    "#96.5 Acuracy\n",
    "\n",
    "#Fitting Naive_Bayes\n",
    "from sklearn.naive_bayes import GaussianNB\n",
    "classifier = GaussianNB()\n",
    "classifier.fit(X_train, Y_train)\n",
    "y_pred = classifier.predict(X_test)\n",
    "scores.append(metrics.accuracy_score(Y_test, y_pred))\n",
    "#91.6 Acuracy\n",
    "\n",
    "#Fitting Decision Tree Algorithm\n",
    "from sklearn.tree import DecisionTreeClassifier\n",
    "classifier = DecisionTreeClassifier(criterion = 'entropy', random_state = 0)\n",
    "classifier.fit(X_train, Y_train)\n",
    "y_pred = classifier.predict(X_test)\n",
    "scores.append(metrics.accuracy_score(Y_test, y_pred))\n",
    "#95.8 Acuracy\n",
    "\n",
    "#Fitting Random Forest Classification Algorithm\n",
    "from sklearn.ensemble import RandomForestClassifier\n",
    "classifier = RandomForestClassifier(n_estimators = 10, criterion = 'entropy', random_state = 0)\n",
    "classifier.fit(X_train, Y_train)\n",
    "y_pred = classifier.predict(X_test)\n",
    "scores.append(metrics.accuracy_score(Y_test, y_pred))\n",
    "#98.6 Acuracy\n",
    "\n",
    "#predicting the Test set results\n",
    "Y_pred = classifier.predict(X_test)\n",
    "\n",
    "#Creating the confusion Matrix\n",
    "from sklearn.metrics import confusion_matrix\n",
    "#cm = confusion_matrix(Y_test, Y_pred)\n",
    "#c = print(cm[0, 0] + cm[1, 1])\n",
    "print(scores)"
   ]
  },
  {
   "cell_type": "code",
   "execution_count": 21,
   "metadata": {},
   "outputs": [
    {
     "data": {
      "image/png": "[encoded data removed]",
      "text/plain": [
       "<Figure size 432x288 with 1 Axes>"
      ]
     },
     "metadata": {
      "needs_background": "light"
     },
     "output_type": "display_data"
    }
   ],
   "source": [
    "bars = ('Logistic Regression', 'K-NN Algorithm', 'SVM', 'K-SVM', 'Naive_Bayes','Decision Tree','Random Forest')\n",
    "y_pos = np.arange(len(bars))\n",
    " \n",
    "# Create bars\n",
    "plt.bar(y_pos, scores)\n",
    " \n",
    "# Create names on the x-axis\n",
    "#plt.xticks(y_pos, bars, color='black')\n",
    "plt.yticks(color='black')\n",
    " \n",
    "# Rotation of the bars names\n",
    "plt.xticks(y_pos, bars, rotation=90)\n",
    " \n",
    "# Custom the subplot layout\n",
    "plt.subplots_adjust(bottom=0.4, top=0.99)\n",
    "\n",
    "plt.style.use('bmh')\n",
    "    \n",
    "# Show graphic\n",
    "plt.show()"
   ]
  },
  {
   "cell_type": "code",
   "execution_count": 23,
   "metadata": {},
   "outputs": [],
   "source": [
    "from imblearn.over_sampling import SMOTE\n",
    " \n",
    "smote = SMOTE(kind = \"regular\")\n",
    "X_sm, y_sm = smote.fit_sample(X_train, Y_train)"
   ]
  },
  {
   "cell_type": "code",
   "execution_count": 24,
   "metadata": {},
   "outputs": [
    {
     "name": "stdout",
     "output_type": "stream",
     "text": [
      "Train set dimensions : (60000, 171)\n"
     ]
    },
    {
     "name": "stderr",
     "output_type": "stream",
     "text": [
      "c:\\users\\inesm\\appdata\\local\\programs\\python\\python36\\lib\\site-packages\\sklearn\\linear_model\\logistic.py:432: FutureWarning: Default solver will be changed to 'lbfgs' in 0.22. Specify a solver to silence this warning.\n",
      "  FutureWarning)\n",
      "c:\\users\\inesm\\appdata\\local\\programs\\python\\python36\\lib\\site-packages\\sklearn\\svm\\base.py:922: ConvergenceWarning: Liblinear failed to converge, increase the number of iterations.\n",
      "  \"the number of iterations.\", ConvergenceWarning)\n",
      "c:\\users\\inesm\\appdata\\local\\programs\\python\\python36\\lib\\site-packages\\sklearn\\svm\\base.py:196: FutureWarning: The default value of gamma will change from 'auto' to 'scale' in version 0.22 to account better for unscaled features. Set gamma explicitly to 'auto' or 'scale' to avoid this warning.\n",
      "  \"avoid this warning.\", FutureWarning)\n"
     ]
    },
    {
     "name": "stdout",
     "output_type": "stream",
     "text": [
      "[0.9606399321926153, 0.994437675478095, 0.9659373841182392, 0.9751549504688245, 0.9163532340944006, 0.9916830004767707, 0.9960798855750385]\n"
     ]
    }
   ],
   "source": [
    "X = X_sm\n",
    "Y = y_sm\n",
    "\n",
    "scores = []\n",
    "\n",
    "#green.head()\n",
    "\n",
    "print(\"Train set dimensions : {}\".format(data.shape))\n",
    "\n",
    "data.groupby('class').size()\n",
    "\n",
    "#Visualization of data\n",
    "#green.groupby('consensus').hist(figsize=(14, 14))\n",
    "\n",
    "data.isnull().sum()\n",
    "data.isna().sum()\n",
    "\n",
    "dataframe = pd.DataFrame(Y)\n",
    "#Encoding categorical data values \n",
    "from sklearn.preprocessing import LabelEncoder\n",
    "labelencoder_Y = LabelEncoder()\n",
    "Y = labelencoder_Y.fit_transform(Y)\n",
    "\n",
    "\n",
    "# Splitting the dataset into the Training set and Test set\n",
    "from sklearn.model_selection import train_test_split\n",
    "X_train, X_test, Y_train, Y_test = train_test_split(X, Y, test_size = 0.2, random_state = 44)\n",
    "\n",
    "\n",
    "#Feature Scaling\n",
    "from sklearn.preprocessing import StandardScaler\n",
    "sc = StandardScaler()\n",
    "X_train = sc.fit_transform(X_train)\n",
    "X_test = sc.transform(X_test)\n",
    "\n",
    "#Fitting the Logistic Regression Algorithm to the Training Set\n",
    "from sklearn.linear_model import LogisticRegression\n",
    "classifier = LogisticRegression(random_state = 0)\n",
    "classifier.fit(X_train, Y_train)\n",
    "y_pred = classifier.predict(X_test)\n",
    "scores.append(metrics.accuracy_score(Y_test, y_pred))\n",
    "\n",
    "#95.8 Acuracy\n",
    "\n",
    "#Fitting K-NN Algorithm\n",
    "from sklearn.neighbors import KNeighborsClassifier\n",
    "classifier = KNeighborsClassifier(n_neighbors = 1, metric = 'minkowski', p = 2)\n",
    "classifier.fit(X_train, Y_train)\n",
    "y_pred = classifier.predict(X_test)\n",
    "scores.append(metrics.accuracy_score(Y_test, y_pred))\n",
    "#95.1 Acuracy\n",
    "\n",
    "#Fitting SVM\n",
    "from sklearn.svm import SVC\n",
    "classifier = SVC(kernel = 'linear', random_state = 0)\n",
    "classifier.fit(X_train, Y_train) \n",
    "y_pred = classifier.predict(X_test)\n",
    "scores.append(metrics.accuracy_score(Y_test, y_pred))\n",
    "#97.2 Acuracy\n",
    "\n",
    "#Fitting K-SVM\n",
    "from sklearn.svm import SVC\n",
    "classifier = SVC(kernel = 'rbf', random_state = 0)\n",
    "classifier.fit(X_train, Y_train)\n",
    "y_pred = classifier.predict(X_test)\n",
    "scores.append(metrics.accuracy_score(Y_test, y_pred))\n",
    "#96.5 Acuracy\n",
    "\n",
    "#Fitting Naive_Bayes\n",
    "from sklearn.naive_bayes import GaussianNB\n",
    "classifier = GaussianNB()\n",
    "classifier.fit(X_train, Y_train)\n",
    "y_pred = classifier.predict(X_test)\n",
    "scores.append(metrics.accuracy_score(Y_test, y_pred))\n",
    "#91.6 Acuracy\n",
    "\n",
    "#Fitting Decision Tree Algorithm\n",
    "from sklearn.tree import DecisionTreeClassifier\n",
    "classifier = DecisionTreeClassifier(criterion = 'entropy', random_state = 0)\n",
    "classifier.fit(X_train, Y_train)\n",
    "y_pred = classifier.predict(X_test)\n",
    "scores.append(metrics.accuracy_score(Y_test, y_pred))\n",
    "#95.8 Acuracy\n",
    "\n",
    "#Fitting Random Forest Classification Algorithm\n",
    "from sklearn.ensemble import RandomForestClassifier\n",
    "classifier = RandomForestClassifier(n_estimators = 10, criterion = 'entropy', random_state = 0)\n",
    "classifier.fit(X_train, Y_train)\n",
    "y_pred = classifier.predict(X_test)\n",
    "scores.append(metrics.accuracy_score(Y_test, y_pred))\n",
    "#98.6 Acuracy\n",
    "\n",
    "#predicting the Test set results\n",
    "Y_pred = classifier.predict(X_test)\n",
    "\n",
    "#Creating the confusion Matrix\n",
    "from sklearn.metrics import confusion_matrix\n",
    "#cm = confusion_matrix(Y_test, Y_pred)\n",
    "#c = print(cm[0, 0] + cm[1, 1])\n",
    "print(scores)"
   ]
  },
  {
   "cell_type": "code",
   "execution_count": 25,
   "metadata": {},
   "outputs": [
    {
     "data": {
      "image/png": "[encoded data removed]",
      "text/plain": [
       "<Figure size 432x288 with 1 Axes>"
      ]
     },
     "metadata": {
      "needs_background": "light"
     },
     "output_type": "display_data"
    }
   ],
   "source": [
    "bars = ('Logistic Regression', 'K-NN Algorithm', 'SVM', 'K-SVM', 'Naive_Bayes','Decision Tree','Random Forest')\n",
    "y_pos = np.arange(len(bars))\n",
    " \n",
    "# Create bars\n",
    "plt.bar(y_pos, scores)\n",
    " \n",
    "# Create names on the x-axis\n",
    "#plt.xticks(y_pos, bars, color='black')\n",
    "plt.yticks(color='black')\n",
    " \n",
    "# Rotation of the bars names\n",
    "plt.xticks(y_pos, bars, rotation=90)\n",
    " \n",
    "# Custom the subplot layout\n",
    "plt.subplots_adjust(bottom=0.4, top=0.99)\n",
    "\n",
    "plt.style.use('bmh')\n",
    "    \n",
    "# Show graphic\n",
    "plt.show()"
   ]
  }
 ],
 "metadata": {
  "kernelspec": {
   "display_name": "Python 3",
   "language": "python",
   "name": "python3"
  },
  "language_info": {
   "codemirror_mode": {
    "name": "ipython",
    "version": 3
   },
   "file_extension": ".py",
   "mimetype": "text/x-python",
   "name": "python",
   "nbconvert_exporter": "python",
   "pygments_lexer": "ipython3",
   "version": "3.6.6"
  }
 },
 "nbformat": 4,
 "nbformat_minor": 2
}
